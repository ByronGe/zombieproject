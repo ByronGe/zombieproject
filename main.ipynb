{
 "cells": [
  {
   "cell_type": "code",
   "execution_count": 1,
   "metadata": {},
   "outputs": [],
   "source": [
    "import pandas as pd\n",
    "import numpy as np\n",
    "from sklearn.metrics import accuracy_score"
   ]
  },
  {
   "cell_type": "code",
   "execution_count": 2,
   "metadata": {},
   "outputs": [
    {
     "name": "stdout",
     "output_type": "stream",
     "text": [
      "<class 'pandas.core.frame.DataFrame'>\n",
      "RangeIndex: 30884 entries, 0 to 30883\n",
      "Data columns (total 10 columns):\n",
      "ID         30884 non-null int64\n",
      "注册时间       30567 non-null float64\n",
      "注册资本       30561 non-null float64\n",
      "行业         30607 non-null object\n",
      "区域         30599 non-null object\n",
      "企业类型       30567 non-null object\n",
      "控制人类型      30545 non-null object\n",
      "控制人ID      30602 non-null float64\n",
      "控制人持股比例    30569 non-null float64\n",
      "flag       30578 non-null float64\n",
      "dtypes: float64(5), int64(1), object(4)\n",
      "memory usage: 2.4+ MB\n"
     ]
    }
   ],
   "source": [
    "base_path = r'verify/base_verify1.csv'\n",
    "money_path = r'verify/money_information_verify1.csv'\n",
    "paient_path = r'verify/paient_information_verify1.csv'\n",
    "report_path = r'verify/year_report_verify1.csv'\n",
    "df_base = pd.read_csv(base_path,encoding='gbk')\n",
    "df_money = pd.read_csv(money_path,encoding='gbk')\n",
    "df_paient = pd.read_csv(paient_path,encoding='gbk')\n",
    "df_report = pd.read_csv(report_path,encoding='gbk')\n",
    "df_base.info()"
   ]
  },
  {
   "cell_type": "code",
   "execution_count": 3,
   "metadata": {},
   "outputs": [
    {
     "name": "stdout",
     "output_type": "stream",
     "text": [
      "(30884, 10) (92652, 10) (30884, 4) (92652, 11)\n"
     ]
    }
   ],
   "source": [
    "print(df_base.shape,df_money.shape,df_paient.shape,df_report.shape)"
   ]
  },
  {
   "cell_type": "code",
   "execution_count": 4,
   "metadata": {},
   "outputs": [
    {
     "data": {
      "text/plain": [
       "(30884, 13)"
      ]
     },
     "execution_count": 4,
     "metadata": {},
     "output_type": "execute_result"
    }
   ],
   "source": [
    "df_two = df_base.join(df_paient.set_index('ID'),on='ID')\n",
    "df_three = df_two.join(df_money.set_index('ID'),on='ID')\n",
    "df = pd.merge(df_three,df_report, on=\"ID\")\n",
    "df_two.shape"
   ]
  },
  {
   "cell_type": "code",
   "execution_count": 5,
   "metadata": {},
   "outputs": [
    {
     "data": {
      "text/plain": [
       "(275193, 32)"
      ]
     },
     "execution_count": 5,
     "metadata": {},
     "output_type": "execute_result"
    }
   ],
   "source": [
    "df = df[np.isnan(df['flag'])==False]\n",
    "df.shape"
   ]
  },
  {
   "cell_type": "markdown",
   "metadata": {},
   "source": [
    "## 三个表统计"
   ]
  },
  {
   "cell_type": "code",
   "execution_count": 6,
   "metadata": {},
   "outputs": [
    {
     "data": {
      "text/plain": [
       "(30884, 23)"
      ]
     },
     "execution_count": 6,
     "metadata": {},
     "output_type": "execute_result"
    }
   ],
   "source": [
    "df_new_report = df_report[df_report[\"year\"]==2017]\n",
    "df_new_report.shape\n",
    "df_new_three = df_two.join(df_new_report.set_index('ID'),on='ID')\n",
    "df_new_three.shape"
   ]
  },
  {
   "cell_type": "code",
   "execution_count": 7,
   "metadata": {},
   "outputs": [
    {
     "data": {
      "text/html": [
       "<div>\n",
       "<style scoped>\n",
       "    .dataframe tbody tr th:only-of-type {\n",
       "        vertical-align: middle;\n",
       "    }\n",
       "\n",
       "    .dataframe tbody tr th {\n",
       "        vertical-align: top;\n",
       "    }\n",
       "\n",
       "    .dataframe thead th {\n",
       "        text-align: right;\n",
       "    }\n",
       "</style>\n",
       "<table border=\"1\" class=\"dataframe\">\n",
       "  <thead>\n",
       "    <tr style=\"text-align: right;\">\n",
       "      <th></th>\n",
       "      <th>ID</th>\n",
       "      <th>注册时间</th>\n",
       "      <th>注册资本</th>\n",
       "      <th>行业</th>\n",
       "      <th>区域</th>\n",
       "      <th>企业类型</th>\n",
       "      <th>控制人类型</th>\n",
       "      <th>控制人ID</th>\n",
       "      <th>控制人持股比例</th>\n",
       "      <th>flag</th>\n",
       "      <th>...</th>\n",
       "      <th>year</th>\n",
       "      <th>从业人数</th>\n",
       "      <th>资产总额</th>\n",
       "      <th>负债总额</th>\n",
       "      <th>营业总收入</th>\n",
       "      <th>主营业务收入</th>\n",
       "      <th>利润总额</th>\n",
       "      <th>净利润</th>\n",
       "      <th>纳税总额</th>\n",
       "      <th>所有者权益合计</th>\n",
       "    </tr>\n",
       "  </thead>\n",
       "  <tbody>\n",
       "    <tr>\n",
       "      <th>0</th>\n",
       "      <td>1500001</td>\n",
       "      <td>2010.0</td>\n",
       "      <td>6680.0</td>\n",
       "      <td>商业服务业</td>\n",
       "      <td>山东</td>\n",
       "      <td>股份有限公司</td>\n",
       "      <td>自然人</td>\n",
       "      <td>1.0</td>\n",
       "      <td>0.89</td>\n",
       "      <td>1.0</td>\n",
       "      <td>...</td>\n",
       "      <td>2017.0</td>\n",
       "      <td>744.0</td>\n",
       "      <td>233800.0</td>\n",
       "      <td>454240.0</td>\n",
       "      <td>303940.0</td>\n",
       "      <td>243152.0</td>\n",
       "      <td>151970.0</td>\n",
       "      <td>-30394.0</td>\n",
       "      <td>0.0</td>\n",
       "      <td>-220440.0</td>\n",
       "    </tr>\n",
       "    <tr>\n",
       "      <th>1</th>\n",
       "      <td>1500321</td>\n",
       "      <td>2001.0</td>\n",
       "      <td>9330.0</td>\n",
       "      <td>商业服务业</td>\n",
       "      <td>广东</td>\n",
       "      <td>股份有限公司</td>\n",
       "      <td>企业法人</td>\n",
       "      <td>321.0</td>\n",
       "      <td>0.72</td>\n",
       "      <td>1.0</td>\n",
       "      <td>...</td>\n",
       "      <td>2017.0</td>\n",
       "      <td>942.0</td>\n",
       "      <td>298560.0</td>\n",
       "      <td>578460.0</td>\n",
       "      <td>1313664.0</td>\n",
       "      <td>788198.4</td>\n",
       "      <td>394099.2</td>\n",
       "      <td>-131366.4</td>\n",
       "      <td>0.0</td>\n",
       "      <td>-279900.0</td>\n",
       "    </tr>\n",
       "    <tr>\n",
       "      <th>3</th>\n",
       "      <td>1500614</td>\n",
       "      <td>2001.0</td>\n",
       "      <td>7730.0</td>\n",
       "      <td>工业</td>\n",
       "      <td>江西</td>\n",
       "      <td>集体所有制企业</td>\n",
       "      <td>企业法人</td>\n",
       "      <td>614.0</td>\n",
       "      <td>0.58</td>\n",
       "      <td>1.0</td>\n",
       "      <td>...</td>\n",
       "      <td>2017.0</td>\n",
       "      <td>265.0</td>\n",
       "      <td>123680.0</td>\n",
       "      <td>57975.0</td>\n",
       "      <td>210256.0</td>\n",
       "      <td>126153.6</td>\n",
       "      <td>21025.6</td>\n",
       "      <td>-21025.6</td>\n",
       "      <td>0.0</td>\n",
       "      <td>65705.0</td>\n",
       "    </tr>\n",
       "    <tr>\n",
       "      <th>4</th>\n",
       "      <td>1501057</td>\n",
       "      <td>2002.0</td>\n",
       "      <td>6840.0</td>\n",
       "      <td>工业</td>\n",
       "      <td>福建</td>\n",
       "      <td>农民专业合作社</td>\n",
       "      <td>自然人</td>\n",
       "      <td>1057.0</td>\n",
       "      <td>0.84</td>\n",
       "      <td>1.0</td>\n",
       "      <td>...</td>\n",
       "      <td>2017.0</td>\n",
       "      <td>270.0</td>\n",
       "      <td>102600.0</td>\n",
       "      <td>47880.0</td>\n",
       "      <td>30780.0</td>\n",
       "      <td>21546.0</td>\n",
       "      <td>15390.0</td>\n",
       "      <td>-3078.0</td>\n",
       "      <td>0.0</td>\n",
       "      <td>54720.0</td>\n",
       "    </tr>\n",
       "    <tr>\n",
       "      <th>5</th>\n",
       "      <td>1501449</td>\n",
       "      <td>2007.0</td>\n",
       "      <td>3570.0</td>\n",
       "      <td>零售业</td>\n",
       "      <td>湖北</td>\n",
       "      <td>合伙企业</td>\n",
       "      <td>自然人</td>\n",
       "      <td>1449.0</td>\n",
       "      <td>0.74</td>\n",
       "      <td>1.0</td>\n",
       "      <td>...</td>\n",
       "      <td>2017.0</td>\n",
       "      <td>594.0</td>\n",
       "      <td>107100.0</td>\n",
       "      <td>207060.0</td>\n",
       "      <td>492660.0</td>\n",
       "      <td>344862.0</td>\n",
       "      <td>49266.0</td>\n",
       "      <td>-49266.0</td>\n",
       "      <td>0.0</td>\n",
       "      <td>-99960.0</td>\n",
       "    </tr>\n",
       "  </tbody>\n",
       "</table>\n",
       "<p>5 rows × 23 columns</p>\n",
       "</div>"
      ],
      "text/plain": [
       "        ID    注册时间    注册资本     行业  区域     企业类型 控制人类型   控制人ID  控制人持股比例  flag  \\\n",
       "0  1500001  2010.0  6680.0  商业服务业  山东   股份有限公司   自然人     1.0     0.89   1.0   \n",
       "1  1500321  2001.0  9330.0  商业服务业  广东   股份有限公司  企业法人   321.0     0.72   1.0   \n",
       "3  1500614  2001.0  7730.0     工业  江西  集体所有制企业  企业法人   614.0     0.58   1.0   \n",
       "4  1501057  2002.0  6840.0     工业  福建  农民专业合作社   自然人  1057.0     0.84   1.0   \n",
       "5  1501449  2007.0  3570.0    零售业  湖北     合伙企业   自然人  1449.0     0.74   1.0   \n",
       "\n",
       "   ...    year   从业人数      资产总额      负债总额      营业总收入    主营业务收入      利润总额  \\\n",
       "0  ...  2017.0  744.0  233800.0  454240.0   303940.0  243152.0  151970.0   \n",
       "1  ...  2017.0  942.0  298560.0  578460.0  1313664.0  788198.4  394099.2   \n",
       "3  ...  2017.0  265.0  123680.0   57975.0   210256.0  126153.6   21025.6   \n",
       "4  ...  2017.0  270.0  102600.0   47880.0    30780.0   21546.0   15390.0   \n",
       "5  ...  2017.0  594.0  107100.0  207060.0   492660.0  344862.0   49266.0   \n",
       "\n",
       "        净利润  纳税总额   所有者权益合计  \n",
       "0  -30394.0   0.0 -220440.0  \n",
       "1 -131366.4   0.0 -279900.0  \n",
       "3  -21025.6   0.0   65705.0  \n",
       "4   -3078.0   0.0   54720.0  \n",
       "5  -49266.0   0.0  -99960.0  \n",
       "\n",
       "[5 rows x 23 columns]"
      ]
     },
     "execution_count": 7,
     "metadata": {},
     "output_type": "execute_result"
    }
   ],
   "source": [
    "df2=df_new_three.copy()\n",
    "lens = len(df2)\n",
    "lists = []\n",
    "for i in range(lens):\n",
    "    if True in pd.isna(df2.iloc[i]).values:\n",
    "        lists.append(i)\n",
    "df2=df2.drop(lists)\n",
    "df2.head()"
   ]
  },
  {
   "cell_type": "code",
   "execution_count": 10,
   "metadata": {},
   "outputs": [],
   "source": [
    "\n",
    "# print(train_length,len(X),test_length)\n",
    "from sklearn.utils import shuffle  \n",
    "df2 = shuffle(df2)  \n",
    "\n",
    "df2.to_csv('train.csv', encoding='gbk',index=False)      \n"
   ]
  },
  {
   "cell_type": "code",
   "execution_count": 10,
   "metadata": {},
   "outputs": [],
   "source": [
    "from sklearn import preprocessing\n",
    "min_max_scaler = preprocessing.MinMaxScaler()\n",
    "from sklearn.model_selection import train_test_split\n",
    "features = [\"企业类型\", \"区域\", \"控制人持股比例\", \"控制人类型\",\"注册资本\",\"行业\",\n",
    "            \"专利\",\"商标\",\"著作权\",\"从业人数\",\"资产总额\",\"负债总额\",\"营业总收入\",\n",
    "                  \"主营业务收入\",\"利润总额\",\"净利润\",\"纳税总额\",\"所有者权益合计\"]\n",
    "updata_features = [\"注册资本\",\"从业人数\",\"资产总额\",\"负债总额\",\"营业总收入\",\n",
    "                  \"主营业务收入\",\"利润总额\",\"净利润\",\"纳税总额\",\"所有者权益合计\"]\n",
    "min_max_scaler = preprocessing.MinMaxScaler()\n",
    "df2[updata_features] = min_max_scaler.fit_transform(df2[updata_features])\n",
    "Y = df2[\"flag\"].values\n",
    "X = pd.get_dummies(df2[features]).values\n",
    "x_train,x_test,y_train,y_test = train_test_split(X, Y, test_size=0.2)"
   ]
  },
  {
   "cell_type": "code",
   "execution_count": 11,
   "metadata": {},
   "outputs": [
    {
     "name": "stderr",
     "output_type": "stream",
     "text": [
      "c:\\python\\python36\\lib\\site-packages\\sklearn\\linear_model\\logistic.py:432: FutureWarning: Default solver will be changed to 'lbfgs' in 0.22. Specify a solver to silence this warning.\n",
      "  FutureWarning)\n"
     ]
    },
    {
     "name": "stdout",
     "output_type": "stream",
     "text": [
      "f1_macro: 0.6841121772582465\n"
     ]
    }
   ],
   "source": [
    "from sklearn.linear_model import LogisticRegression  #逻辑回归\n",
    "model = LogisticRegression()\n",
    "model.fit(x_train, y_train)\n",
    "y_pred = model.predict(x_test)\n",
    "accuracy = accuracy_score(y_test,y_pred)\n",
    "from sklearn.metrics import f1_score\n",
    "f1_macro = f1_score(y_test,y_pred,average='macro')\n",
    "print('f1_macro: {0}'.format(f1_macro))"
   ]
  },
  {
   "cell_type": "code",
   "execution_count": 12,
   "metadata": {},
   "outputs": [
    {
     "name": "stdout",
     "output_type": "stream",
     "text": [
      "f1_macro: 0.8011845878583327\n"
     ]
    },
    {
     "name": "stderr",
     "output_type": "stream",
     "text": [
      "c:\\python\\python36\\lib\\site-packages\\sklearn\\svm\\base.py:193: FutureWarning: The default value of gamma will change from 'auto' to 'scale' in version 0.22 to account better for unscaled features. Set gamma explicitly to 'auto' or 'scale' to avoid this warning.\n",
      "  \"avoid this warning.\", FutureWarning)\n"
     ]
    },
    {
     "name": "stdout",
     "output_type": "stream",
     "text": [
      "f1_macro: 0.5195753625858944\n"
     ]
    }
   ],
   "source": [
    "from sklearn.svm import SVC  #支持向量机                                #scikit-learn\n",
    "from sklearn.tree import DecisionTreeClassifier  #决策树\n",
    "model = DecisionTreeClassifier()\n",
    "model.fit(x_train, y_train)\n",
    "y_pred = model.predict(x_test)\n",
    "f1_macro = f1_score(y_test,y_pred,average='macro')\n",
    "print('f1_macro: {0}'.format(f1_macro))\n",
    "model = SVC()\n",
    "model.fit(x_train, y_train)\n",
    "y_pred = model.predict(x_test)\n",
    "f1_macro = f1_score(y_test,y_pred,average='macro')\n",
    "print('f1_macro: {0}'.format(f1_macro))"
   ]
  },
  {
   "cell_type": "code",
   "execution_count": 13,
   "metadata": {},
   "outputs": [
    {
     "name": "stdout",
     "output_type": "stream",
     "text": [
      "f1_macro: 0.8496461742805304\n"
     ]
    },
    {
     "name": "stderr",
     "output_type": "stream",
     "text": [
      "c:\\python\\python36\\lib\\site-packages\\sklearn\\neural_network\\multilayer_perceptron.py:566: ConvergenceWarning: Stochastic Optimizer: Maximum iterations (200) reached and the optimization hasn't converged yet.\n",
      "  % self.max_iter, ConvergenceWarning)\n"
     ]
    }
   ],
   "source": [
    "from sklearn.neural_network import MLPClassifier\n",
    "model = MLPClassifier()\n",
    "model.fit(x_train, y_train)\n",
    "y_pred = model.predict(x_test)\n",
    "f1_macro = f1_score(y_test,y_pred,average='macro')\n",
    "print('f1_macro: {0}'.format(f1_macro))"
   ]
  },
  {
   "cell_type": "code",
   "execution_count": 27,
   "metadata": {},
   "outputs": [
    {
     "name": "stdout",
     "output_type": "stream",
     "text": [
      "f1_macro: 0.8120466110037778\n"
     ]
    }
   ],
   "source": [
    "# from sklearn.decomposition import PCA\n",
    "# pca = PCA(whiten=True,n_components=0.9,random_state=62).fit(x_train)\n",
    "# x_train = pca.transform(x_train)\n",
    "# x_test = pca.transform(x_test)\n",
    "cls = MLPClassifier(activation='relu', alpha=1e-05, batch_size='auto', beta_1=0.9,\n",
    "       beta_2=0.999, early_stopping=False, epsilon=1e-08,\n",
    "       hidden_layer_sizes=(100, 100), learning_rate='constant',\n",
    "       learning_rate_init=0.001, max_iter=400, momentum=0.9,\n",
    "       nesterovs_momentum=True, power_t=0.5, random_state=1, shuffle=True,\n",
    "       solver='adam', tol=0.0001, validation_fraction=0.1, verbose=False,\n",
    "       warm_start=False)\n",
    "cls.fit(x_train, y_train)\n",
    "y_pred = cls.predict(x_test)\n",
    "f1_macro = f1_score(y_test,y_pred,average='macro')\n",
    "print('f1_macro: {0}'.format(f1_macro))"
   ]
  },
  {
   "cell_type": "markdown",
   "metadata": {},
   "source": [
    "(100,100)\n",
    "max_iter=200   acc = 86.23\n",
    "max_iter=300   acc = 86.95\n",
    "max_iter=400   acc = 87.05\n",
    "(100,100,50)\n",
    "max_iter=200   acc = 86.04\n",
    "max_iter=300   acc = 86.16\n",
    "max_iter=400   acc = 86.91\n",
    "(100,100,adam)\n",
    "max_iter=200   acc = 82.05\n",
    "max_iter=300   acc = 81.20\n",
    "max_iter=400   acc = 81.22"
   ]
  },
  {
   "cell_type": "code",
   "execution_count": 17,
   "metadata": {},
   "outputs": [
    {
     "name": "stdout",
     "output_type": "stream",
     "text": [
      "f1_macro: 0.8683708126212453\n"
     ]
    }
   ],
   "source": [
    "from sklearn.ensemble import AdaBoostClassifier\n",
    "from sklearn.tree import DecisionTreeClassifier  #决策树\n",
    "# Adaboost分类器（多棵决策树）\n",
    "clf = AdaBoostClassifier(DecisionTreeClassifier(max_depth=2),n_estimators=40)\n",
    "clf.fit(x_train,y_train)\n",
    "y_pred = clf.predict(x_test)\n",
    "f1_macro = f1_score(y_test,y_pred,average='macro')\n",
    "print('f1_macro: {0}'.format(f1_macro))"
   ]
  },
  {
   "cell_type": "code",
   "execution_count": 41,
   "metadata": {},
   "outputs": [
    {
     "name": "stdout",
     "output_type": "stream",
     "text": [
      "f1_macro: 0.8797827931709133\n"
     ]
    }
   ],
   "source": [
    "from xgboost import XGBClassifier\n",
    "model = XGBClassifier()               # 载入模型（模型命名为model)\n",
    "model.fit(x_train,y_train)            # 训练模型（训练集）\n",
    "y_pred = model.predict(x_test)   \n",
    "f1_macro = f1_score(y_test,y_pred,average='macro')\n",
    "print('f1_macro: {0}'.format(f1_macro))"
   ]
  },
  {
   "cell_type": "code",
   "execution_count": 40,
   "metadata": {},
   "outputs": [
    {
     "name": "stdout",
     "output_type": "stream",
     "text": [
      "f1_macro: 0.41187625933388644\n"
     ]
    },
    {
     "name": "stderr",
     "output_type": "stream",
     "text": [
      "c:\\python\\python36\\lib\\site-packages\\sklearn\\metrics\\classification.py:1437: UndefinedMetricWarning: F-score is ill-defined and being set to 0.0 in labels with no predicted samples.\n",
      "  'precision', 'predicted', average, warn_for)\n"
     ]
    }
   ],
   "source": [
    "from sklearn.naive_bayes import MultinomialNB\n",
    "estimator = MultinomialNB()\n",
    "estimator.fit(x_train,y_train)\n",
    "\n",
    "y_pred = estimator.predict(x_test)   \n",
    "f1_macro = f1_score(y_test,y_pred,average='macro')\n",
    "print('f1_macro: {0}'.format(f1_macro))"
   ]
  },
  {
   "cell_type": "code",
   "execution_count": 8,
   "metadata": {},
   "outputs": [],
   "source": [
    "df2=df_new_three.copy()\n",
    "lens = len(df2)\n",
    "lists = []\n",
    "for i in range(lens):\n",
    "    if True in pd.isna(df2.iloc[i]).values:\n",
    "        lists.append(i)\n",
    "df2=df2.drop(lists)\n",
    "df2['其它收入'] = df2['营业总收入']-df2['主营业务收入']"
   ]
  },
  {
   "cell_type": "code",
   "execution_count": 9,
   "metadata": {},
   "outputs": [],
   "source": [
    "\n",
    "from sklearn import preprocessing\n",
    "min_max_scaler = preprocessing.MinMaxScaler()\n",
    "from sklearn.model_selection import train_test_split\n",
    "features = [\"企业类型\", \"区域\", \"控制人持股比例\", \"控制人类型\",\"注册资本\",\"行业\",\n",
    "            \"专利\",\"商标\",\"著作权\",\"从业人数\",\"资产总额\",\"负债总额\",\"营业总收入\",\n",
    "                  \"主营业务收入\",\"利润总额\",\"净利润\",\"纳税总额\",\"所有者权益合计\",'其它收入']\n",
    "updata_features = [\"注册资本\",\"从业人数\",\"资产总额\",\"负债总额\",\"营业总收入\",\n",
    "                  \"主营业务收入\",\"利润总额\",\"净利润\",\"纳税总额\",\"所有者权益合计\",'其它收入']\n",
    "min_max_scaler = preprocessing.MinMaxScaler()\n",
    "df2[updata_features] = min_max_scaler.fit_transform(df2[updata_features])\n",
    "Y = df2[\"flag\"].values\n",
    "X = pd.get_dummies(df2[features]).values\n",
    "x_train,x_test,y_train,y_test = train_test_split(X, Y, test_size=0.2)"
   ]
  },
  {
   "cell_type": "code",
   "execution_count": 10,
   "metadata": {},
   "outputs": [
    {
     "name": "stdout",
     "output_type": "stream",
     "text": [
      "Adaboost分类器（多棵决策树）分类结果如下：\n",
      "accuarcy: 88.39%\n"
     ]
    }
   ],
   "source": [
    "from sklearn.ensemble import AdaBoostClassifier\n",
    "from sklearn.tree import DecisionTreeClassifier  #决策树\n",
    "\n",
    "# Adaboost分类器（多棵决策树）\n",
    "clf = AdaBoostClassifier(DecisionTreeClassifier(max_depth=1),n_estimators=40)\n",
    "clf.fit(x_train,y_train)\n",
    "y_pred = clf.predict(x_test)\n",
    "print(\"Adaboost分类器（多棵决策树）分类结果如下：\")\n",
    "accuracy = accuracy_score(y_test,y_pred)\n",
    "print(\"accuarcy: %.2f%%\" % (accuracy*100.0))"
   ]
  },
  {
   "cell_type": "code",
   "execution_count": 101,
   "metadata": {},
   "outputs": [],
   "source": [
    "data = np.where(y_test!=y_pred)"
   ]
  },
  {
   "cell_type": "code",
   "execution_count": 11,
   "metadata": {},
   "outputs": [],
   "source": [
    "train_length = int(len(X)*0.8)\n",
    "test_length = len(X)-train_length\n",
    "# x_train,x_test,y_train,y_test = train_test_split(X, Y, test_size=0.2)\n",
    "x_train,x_test = X[:train_length],X[train_length:]\n",
    "y_train,y_test = Y[:train_length],Y[train_length:]"
   ]
  },
  {
   "cell_type": "code",
   "execution_count": 12,
   "metadata": {},
   "outputs": [
    {
     "name": "stdout",
     "output_type": "stream",
     "text": [
      "Adaboost分类器（多棵决策树）分类结果如下：\n",
      "accuarcy: 84.10%\n"
     ]
    }
   ],
   "source": [
    "from sklearn.ensemble import AdaBoostClassifier\n",
    "from sklearn.tree import DecisionTreeClassifier  #决策树\n",
    "\n",
    "# Adaboost分类器（多棵决策树）\n",
    "clf = AdaBoostClassifier(DecisionTreeClassifier(max_depth=1),n_estimators=40)\n",
    "clf.fit(x_train,y_train)\n",
    "y_pred = clf.predict(x_test)\n",
    "print(\"Adaboost分类器（多棵决策树）分类结果如下：\")\n",
    "accuracy = accuracy_score(y_test,y_pred)\n",
    "print(\"accuarcy: %.2f%%\" % (accuracy*100.0))"
   ]
  }
 ],
 "metadata": {
  "kernelspec": {
   "display_name": "Python 3",
   "language": "python",
   "name": "python3"
  },
  "language_info": {
   "codemirror_mode": {
    "name": "ipython",
    "version": 3
   },
   "file_extension": ".py",
   "mimetype": "text/x-python",
   "name": "python",
   "nbconvert_exporter": "python",
   "pygments_lexer": "ipython3",
   "version": "3.6.6"
  }
 },
 "nbformat": 4,
 "nbformat_minor": 2
}
